{
 "cells": [
  {
   "cell_type": "markdown",
   "metadata": {},
   "source": [
    "### 导入各种库"
   ]
  },
  {
   "cell_type": "code",
   "execution_count": 1,
   "metadata": {
    "scrolled": true
   },
   "outputs": [
    {
     "name": "stderr",
     "output_type": "stream",
     "text": [
      "Using TensorFlow backend.\n"
     ]
    }
   ],
   "source": [
    "'''Trains a simple convnet on the MNIST dataset.\n",
    "\n",
    "Gets to 99.25% test accuracy after 12 epochs\n",
    "(there is still a lot of margin for parameter tuning).\n",
    "16 seconds per epoch on a GRID K520 GPU.\n",
    "'''\n",
    "from __future__ import print_function\n",
    "import keras\n",
    "from keras.datasets import mnist\n",
    "# 使用Sequential模型\n",
    "from keras.models import Sequential\n",
    "# 导入Dense，Dropout，Flatten，Conv2D，MaxPooling2D层\n",
    "from keras.layers import Dense, Dropout, Flatten\n",
    "from keras.layers import Conv2D, MaxPooling2D\n",
    "# 调用后端接口\n",
    "from keras import backend as K"
   ]
  },
  {
   "cell_type": "markdown",
   "metadata": {},
   "source": [
    "### 定义超参数"
   ]
  },
  {
   "cell_type": "code",
   "execution_count": 2,
   "metadata": {},
   "outputs": [],
   "source": [
    "# batch大小，每处理128个样本进行一次梯度更新\n",
    "batch_size = 128\n",
    "# 类别数\n",
    "num_classes = 10\n",
    "# 迭代次数\n",
    "epochs = 12\n",
    "\n",
    "# input image dimensions\n",
    "# 28x28 图像\n",
    "img_rows, img_cols = 28, 28"
   ]
  },
  {
   "cell_type": "markdown",
   "metadata": {},
   "source": [
    "### 准备数据"
   ]
  },
  {
   "cell_type": "code",
   "execution_count": 3,
   "metadata": {},
   "outputs": [
    {
     "name": "stdout",
     "output_type": "stream",
     "text": [
      "x_train shape: (60000, 28, 28, 1)\n",
      "60000 train samples\n",
      "10000 test samples\n"
     ]
    }
   ],
   "source": [
    "# the data, shuffled and split between train and test sets\n",
    "(x_train, y_train), (x_test, y_test) = mnist.load_data()\n",
    "# -x_train.shape:(6000, 28, 28)\n",
    "# -x_test.shape:(1000, 28, 28)\n",
    "\n",
    "\n",
    "# tf或th为后端，采取不同参数顺序，th为channels_first，tf为channels_last\n",
    "if K.image_data_format() == 'channels_first':\n",
    "    # -x_train.shape[0]=6000\n",
    "    x_train = x_train.reshape(x_train.shape[0], 1, img_rows, img_cols)\n",
    "    # -x_train.shape:(60000, 1, 28, 28)\n",
    "    x_test = x_test.reshape(x_test.shape[0], 1, img_rows, img_cols)\n",
    "    # x_test.shape:(10000, 1, 28, 28)\n",
    "    # 单通道灰度图像,channel=1\n",
    "    input_shape = (1, img_rows, img_cols)\n",
    "else:\n",
    "    x_train = x_train.reshape(x_train.shape[0], img_rows, img_cols, 1)\n",
    "    x_test = x_test.reshape(x_test.shape[0], img_rows, img_cols, 1)\n",
    "    input_shape = (img_rows, img_cols, 1)\n",
    "\n",
    "\n",
    "# 数据转为float32型\n",
    "x_train = x_train.astype('float32')\n",
    "x_test = x_test.astype('float32')\n",
    "# 归一化\n",
    "x_train /= 255\n",
    "x_test /= 255\n",
    "print('x_train shape:', x_train.shape)\n",
    "print(x_train.shape[0], 'train samples')\n",
    "print(x_test.shape[0], 'test samples')\n",
    "\n",
    "# convert class vectors to binary class matrices\n",
    "# 标签转换为独热码\n",
    "y_train = keras.utils.to_categorical(y_train, num_classes)\n",
    "y_test = keras.utils.to_categorical(y_test, num_classes)"
   ]
  },
  {
   "cell_type": "markdown",
   "metadata": {},
   "source": [
    "### 构建模型&训练&测试"
   ]
  },
  {
   "cell_type": "code",
   "execution_count": 4,
   "metadata": {
    "scrolled": true
   },
   "outputs": [
    {
     "name": "stdout",
     "output_type": "stream",
     "text": [
      "Train on 60000 samples, validate on 10000 samples\n",
      "Epoch 1/12\n",
      "60000/60000 [==============================] - 7s 115us/step - loss: 0.2619 - acc: 0.9192 - val_loss: 0.0545 - val_acc: 0.9824\n",
      "Epoch 2/12\n",
      "60000/60000 [==============================] - 5s 76us/step - loss: 0.0843 - acc: 0.9749 - val_loss: 0.0393 - val_acc: 0.9866\n",
      "Epoch 3/12\n",
      "60000/60000 [==============================] - 4s 71us/step - loss: 0.0641 - acc: 0.9811 - val_loss: 0.0354 - val_acc: 0.9875\n",
      "Epoch 4/12\n",
      "60000/60000 [==============================] - 4s 71us/step - loss: 0.0521 - acc: 0.9845 - val_loss: 0.0323 - val_acc: 0.9889\n",
      "Epoch 5/12\n",
      "60000/60000 [==============================] - 4s 70us/step - loss: 0.0472 - acc: 0.9853 - val_loss: 0.0299 - val_acc: 0.9900\n",
      "Epoch 6/12\n",
      "60000/60000 [==============================] - 4s 69us/step - loss: 0.0403 - acc: 0.9876 - val_loss: 0.0307 - val_acc: 0.9886\n",
      "Epoch 7/12\n",
      "60000/60000 [==============================] - 4s 69us/step - loss: 0.0359 - acc: 0.9891 - val_loss: 0.0309 - val_acc: 0.9898\n",
      "Epoch 8/12\n",
      "60000/60000 [==============================] - 4s 69us/step - loss: 0.0331 - acc: 0.9899 - val_loss: 0.0278 - val_acc: 0.9902\n",
      "Epoch 9/12\n",
      "60000/60000 [==============================] - 4s 70us/step - loss: 0.0308 - acc: 0.9906 - val_loss: 0.0268 - val_acc: 0.9913\n",
      "Epoch 10/12\n",
      "60000/60000 [==============================] - 4s 68us/step - loss: 0.0305 - acc: 0.9907 - val_loss: 0.0264 - val_acc: 0.9907\n",
      "Epoch 11/12\n",
      "60000/60000 [==============================] - 4s 68us/step - loss: 0.0278 - acc: 0.9910 - val_loss: 0.0274 - val_acc: 0.9915\n",
      "Epoch 12/12\n",
      "60000/60000 [==============================] - 4s 69us/step - loss: 0.0252 - acc: 0.9918 - val_loss: 0.0293 - val_acc: 0.9913\n",
      "Test loss: 0.029259790816848635\n",
      "Test accuracy: 0.9913\n"
     ]
    }
   ],
   "source": [
    "# 构建模型\n",
    "model = Sequential()\n",
    "# 第一层为二维卷积层\n",
    "# 32 为filters卷积核的数目，也为输出的维度\n",
    "# kernel_size 卷积核的大小，3x3\n",
    "# 激活函数选为relu \n",
    "# 第一层必须包含输入数据规模input_shape这一参数，后续层不必包含\n",
    "model.add(Conv2D(32, kernel_size=(3, 3),\n",
    "                 activation='relu',\n",
    "                 input_shape=input_shape))\n",
    "# 再加一层卷积，64个卷积核\n",
    "model.add(Conv2D(64, (3, 3), activation='relu'))\n",
    "# 加最大值池化\n",
    "model.add(MaxPooling2D(pool_size=(2, 2)))\n",
    "# 加Dropout，断开神经元比例为25%\n",
    "model.add(Dropout(0.25))\n",
    "# 加Flatten，数据一维化\n",
    "model.add(Flatten())\n",
    "# 加Dense，输出128维\n",
    "model.add(Dense(128, activation='relu'))\n",
    "# 再一次Dropout\n",
    "model.add(Dropout(0.5))\n",
    "# 最后一层为Softmax，输出为10个分类的概率\n",
    "model.add(Dense(num_classes, activation='softmax'))\n",
    "\n",
    "# 配置模型，损失函数采用交叉熵，优化采用Adadelta，将识别准确率作为模型评估\n",
    "model.compile(loss=keras.losses.categorical_crossentropy,\n",
    "              optimizer=keras.optimizers.Adadelta(),\n",
    "              metrics=['accuracy'])\n",
    "\n",
    "# 训练模型，载入数据，verbose=1为输出进度条记录\n",
    "# validation_data为验证集\n",
    "model.fit(x_train, y_train,\n",
    "          batch_size=batch_size,\n",
    "          epochs=epochs,\n",
    "          verbose=1,\n",
    "          validation_data=(x_test, y_test))\n",
    "\n",
    "# 开始评估模型效果\n",
    "# verbose=0为不输出日志信息\n",
    "score = model.evaluate(x_test, y_test, verbose=0)\n",
    "print('Test loss:', score[0])\n",
    "print('Test accuracy:', score[1])"
   ]
  },
  {
   "cell_type": "markdown",
   "metadata": {},
   "source": [
    "### 使用回调&Tensorboard"
   ]
  },
  {
   "cell_type": "code",
   "execution_count": 16,
   "metadata": {},
   "outputs": [
    {
     "name": "stdout",
     "output_type": "stream",
     "text": [
      "On_train_begin\n",
      "_________________________________________________________________\n",
      "Layer (type)                 Output Shape              Param #   \n",
      "=================================================================\n",
      "conv2d_1 (Conv2D)            (None, 26, 26, 32)        320       \n",
      "_________________________________________________________________\n",
      "conv2d_2 (Conv2D)            (None, 24, 24, 64)        18496     \n",
      "_________________________________________________________________\n",
      "max_pooling2d_1 (MaxPooling2 (None, 12, 12, 64)        0         \n",
      "_________________________________________________________________\n",
      "dropout_1 (Dropout)          (None, 12, 12, 64)        0         \n",
      "_________________________________________________________________\n",
      "flatten_1 (Flatten)          (None, 9216)              0         \n",
      "_________________________________________________________________\n",
      "dense_1 (Dense)              (None, 128)               1179776   \n",
      "_________________________________________________________________\n",
      "dropout_2 (Dropout)          (None, 128)               0         \n",
      "_________________________________________________________________\n",
      "dense_2 (Dense)              (None, 10)                1290      \n",
      "=================================================================\n",
      "Total params: 1,199,882\n",
      "Trainable params: 1,199,882\n",
      "Non-trainable params: 0\n",
      "_________________________________________________________________\n",
      "None\n"
     ]
    },
    {
     "name": "stderr",
     "output_type": "stream",
     "text": [
      "No handles with labels found to put in legend.\n"
     ]
    },
    {
     "name": "stdout",
     "output_type": "stream",
     "text": [
      "0 0.012918707954627462 <class 'int'> <class 'numpy.float64'>\n"
     ]
    },
    {
     "name": "stderr",
     "output_type": "stream",
     "text": [
      "No handles with labels found to put in legend.\n"
     ]
    },
    {
     "name": "stdout",
     "output_type": "stream",
     "text": [
      "1 0.010722494002885651 <class 'int'> <class 'numpy.float64'>\n"
     ]
    },
    {
     "name": "stderr",
     "output_type": "stream",
     "text": [
      "No handles with labels found to put in legend.\n"
     ]
    },
    {
     "name": "stdout",
     "output_type": "stream",
     "text": [
      "2 0.01059785547707385 <class 'int'> <class 'numpy.float64'>\n"
     ]
    },
    {
     "name": "stderr",
     "output_type": "stream",
     "text": [
      "No handles with labels found to put in legend.\n"
     ]
    },
    {
     "name": "stdout",
     "output_type": "stream",
     "text": [
      "3 0.01130450480185294 <class 'int'> <class 'numpy.float64'>\n"
     ]
    },
    {
     "name": "stderr",
     "output_type": "stream",
     "text": [
      "No handles with labels found to put in legend.\n"
     ]
    },
    {
     "name": "stdout",
     "output_type": "stream",
     "text": [
      "4 0.011568312422989401 <class 'int'> <class 'numpy.float64'>\n"
     ]
    },
    {
     "name": "stderr",
     "output_type": "stream",
     "text": [
      "No handles with labels found to put in legend.\n"
     ]
    },
    {
     "name": "stdout",
     "output_type": "stream",
     "text": [
      "5 0.011868538031716403 <class 'int'> <class 'numpy.float64'>\n"
     ]
    },
    {
     "name": "stderr",
     "output_type": "stream",
     "text": [
      "No handles with labels found to put in legend.\n"
     ]
    },
    {
     "name": "stdout",
     "output_type": "stream",
     "text": [
      "6 0.010977633775103217 <class 'int'> <class 'numpy.float64'>\n"
     ]
    },
    {
     "name": "stderr",
     "output_type": "stream",
     "text": [
      "No handles with labels found to put in legend.\n"
     ]
    },
    {
     "name": "stdout",
     "output_type": "stream",
     "text": [
      "7 0.010583850064691312 <class 'int'> <class 'numpy.float64'>\n"
     ]
    },
    {
     "name": "stderr",
     "output_type": "stream",
     "text": [
      "No handles with labels found to put in legend.\n"
     ]
    },
    {
     "name": "stdout",
     "output_type": "stream",
     "text": [
      "8 0.009643727036183311 <class 'int'> <class 'numpy.float64'>\n"
     ]
    },
    {
     "name": "stderr",
     "output_type": "stream",
     "text": [
      "No handles with labels found to put in legend.\n"
     ]
    },
    {
     "name": "stdout",
     "output_type": "stream",
     "text": [
      "9 0.01022935587244574 <class 'int'> <class 'numpy.float64'>\n"
     ]
    },
    {
     "name": "stderr",
     "output_type": "stream",
     "text": [
      "No handles with labels found to put in legend.\n"
     ]
    },
    {
     "name": "stdout",
     "output_type": "stream",
     "text": [
      "10 0.010255988154917335 <class 'int'> <class 'numpy.float64'>\n"
     ]
    },
    {
     "name": "stderr",
     "output_type": "stream",
     "text": [
      "No handles with labels found to put in legend.\n"
     ]
    },
    {
     "name": "stdout",
     "output_type": "stream",
     "text": [
      "11 0.01058265076095704 <class 'int'> <class 'numpy.float64'>\n",
      "Test loss: 0.038384983515358725\n",
      "Test accuracy: 0.9915\n"
     ]
    },
    {
     "data": {
      "image/png": "[encoded data removed]",
      "text/plain": [
       "<Figure size 432x288 with 1 Axes>"
      ]
     },
     "metadata": {},
     "output_type": "display_data"
    },
    {
     "data": {
      "image/png": "[encoded data removed]",
      "text/plain": [
       "<Figure size 432x288 with 1 Axes>"
      ]
     },
     "metadata": {},
     "output_type": "display_data"
    }
   ],
   "source": [
    "from keras.callbacks import EarlyStopping\n",
    "from keras.callbacks import LambdaCallback\n",
    "import matplotlib.pyplot as plt\n",
    "import numpy as np\n",
    "\n",
    "\n",
    "# callback on_train_run as a Class\n",
    "class Mylogger(keras.callbacks.Callback):\n",
    "    def on_train_begin(self,logs=None):\n",
    "        print('On_train_begin')\n",
    "        # model.summary()\n",
    "        print(keras.utils.layer_utils.print_summary(self.model))\n",
    "\n",
    "# callback loss-show\n",
    "show_loss_callback = LambdaCallback(on_epoch_end = lambda epoch,logs:\n",
    "    print(epoch,logs['loss'],type(epoch),type(logs['loss'])))\n",
    "\n",
    "# callback loss-plot\n",
    "def vis(e,l):\n",
    "    plt.figure(1)\n",
    "    plt.scatter(e,l)\n",
    "    plt.xlabel('epochs')\n",
    "    plt.ylabel('train-accuracy')\n",
    "    plt.legend()\n",
    "    plt.title('The training process')\n",
    "\n",
    "plot_loss_callback = LambdaCallback(on_epoch_end = lambda epoch,logs:\n",
    "    vis(epoch,logs['loss']))\n",
    "\n",
    "# recording loss history\n",
    "class LossHistory(keras.callbacks.Callback):\n",
    "    def on_train_begin(self, logs={}):\n",
    "        self.losses = []\n",
    "        self.val_losses = []\n",
    "\n",
    "    def on_epoch_end(self, epoch, logs={}):\n",
    "        self.losses.append(logs['loss'])\n",
    "        self.val_losses.append(logs['val_loss'])\n",
    "    def vis_losss(self):\n",
    "        plt.figure(2)\n",
    "        plt.plot(np.arange(len(self.losses)),self.losses,label='losses')\n",
    "        plt.plot(np.arange(len(self.val_losses)),self.val_losses,label='val_losses')\n",
    "        plt.xlabel('epochs')\n",
    "        plt.ylabel('train-accuracy')\n",
    "        plt.legend()\n",
    "        plt.title('The training process')\n",
    "#%%\n",
    "history = LossHistory()\n",
    "\n",
    "# callback tensorboard           \n",
    "tbCallBack = keras.callbacks.TensorBoard(log_dir='./Graph')\n",
    "#                                          histogram_freq=0, \n",
    "#                                          write_graph=True, \n",
    "#                                          write_images=True)\n",
    "\n",
    "#%%\n",
    "patience = 4\n",
    "\n",
    "model_history = model.fit(x_train, \n",
    "                    y_train,\n",
    "                    batch_size=batch_size,\n",
    "                    epochs=epochs,\n",
    "                    verbose=0,\n",
    "                    validation_data=(x_test, y_test),\n",
    "                    callbacks = [Mylogger(),\n",
    "                                 tbCallBack,\n",
    "#                                  EarlyStopping(patience=patience,mode='min',verbose=0),\n",
    "                                 show_loss_callback,\n",
    "                                 plot_loss_callback,\n",
    "                                 history])\n",
    "\n",
    "score = model.evaluate(x_test, y_test, verbose=0)\n",
    "print('Test loss:', score[0])\n",
    "print('Test accuracy:', score[1])\n",
    "history.vis_losss()"
   ]
  },
  {
   "cell_type": "code",
   "execution_count": null,
   "metadata": {},
   "outputs": [],
   "source": [
    "from keras.utils import plot_model\n",
    "plot_model(model, to_file='model.png')"
   ]
  }
 ],
 "metadata": {
  "kernelspec": {
   "display_name": "Python3",
   "language": "python",
   "name": "python3"
  },
  "language_info": {
   "codemirror_mode": {
    "name": "ipython",
    "version": 3
   },
   "file_extension": ".py",
   "mimetype": "text/x-python",
   "name": "python",
   "nbconvert_exporter": "python",
   "pygments_lexer": "ipython3",
   "version": "3.6.5"
  }
 },
 "nbformat": 4,
 "nbformat_minor": 2
}
